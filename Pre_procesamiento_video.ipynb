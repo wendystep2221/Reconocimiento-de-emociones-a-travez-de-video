{
  "nbformat": 4,
  "nbformat_minor": 0,
  "metadata": {
    "colab": {
      "name": "Pre-procesamiento video.ipynb",
      "provenance": [],
      "collapsed_sections": [
        "tMn3zWSm-1_b"
      ],
      "toc_visible": true,
      "include_colab_link": true
    },
    "kernelspec": {
      "display_name": "Python 3",
      "language": "python",
      "name": "python3"
    },
    "language_info": {
      "codemirror_mode": {
        "name": "ipython",
        "version": 3
      },
      "file_extension": ".py",
      "mimetype": "text/x-python",
      "name": "python",
      "nbconvert_exporter": "python",
      "pygments_lexer": "ipython3",
      "version": "3.7.4"
    }
  },
  "cells": [
    {
      "cell_type": "markdown",
      "metadata": {
        "id": "view-in-github",
        "colab_type": "text"
      },
      "source": [
        "<a href=\"https://colab.research.google.com/github/wendystep2221/Reconocimiento-de-emociones-a-travez-de-video/blob/master/Pre_procesamiento_video.ipynb\" target=\"_parent\"><img src=\"https://colab.research.google.com/assets/colab-badge.svg\" alt=\"Open In Colab\"/></a>"
      ]
    },
    {
      "cell_type": "markdown",
      "metadata": {
        "colab_type": "text",
        "id": "9wfo78eBRo4X"
      },
      "source": [
        "# Reconocimiento de emociones Humanas a travez de video"
      ]
    },
    {
      "cell_type": "markdown",
      "metadata": {
        "colab_type": "text",
        "id": "uFSsX7Go1sFO"
      },
      "source": [
        "El proyecto tendrá como objetivo la clasificación de las emociones. Este análisis se hará con la base de datos de [RAVDESS](https://zenodo.org/record/1188976#.XsyEAmhKhPY). La cual tiene dos tipos de archivos:\n",
        "\n",
        "Audio: Habla y canto\n",
        "Video: Habla y canto\n",
        "Cada uno de estos tiene varios identificadores, los cuales son los siguientes:\n",
        "\n",
        "*   Modalidad (01 = full-AV, 02 = video-only, 03 = audio-only).\n",
        "\n",
        "*   Canal de audio (01 = speech, 02 = song).\n",
        "*   Emoción (01 = neutral, 02 = calm, 03 = happy, 04 = sad, 05 = angry, 06 = fearful, 07 = disgust, 08 = surprised).\n",
        "*   Intensidad Emocional (01 = normal, 02 = strong). NOTE: There is no strong intensity for the 'neutral' emotion.\n",
        "*   Declaración (01 = \"Kids are talking by the door\", 02 = \"Dogs are sitting by the door\").\n",
        "*   Repetición (01 = 1st repetition, 02 = 2nd repetition).\n",
        "*   Actor (01 to 24. Odd numbered actors are male, even numbered actors are female).\n",
        "\n",
        "\n",
        "A través de esto, se busca realizar una clasificación de la emoción que encontramos en los archivos. Lo cual será desarrollado por medio de redes neuronales convolucionadas y redes recurrentes.\n",
        "\n",
        "Se tomará como referencia los siguientes papers:\n",
        "https://dl.acm.org/doi/10.1145/3318299.3318321\n",
        "\n",
        "http://www.ijmlc.org/vol9/759-L0179.pdf\n",
        "\n",
        "https://dl.acm.org/doi/pdf/10.1145/2818346.2830596\n",
        "\n",
        "https://dl.acm.org/doi/pdf/10.1145/2993148.2997632\n",
        "\n",
        "\n"
      ]
    },
    {
      "cell_type": "markdown",
      "metadata": {
        "id": "F-hjbCdIhx2N",
        "colab_type": "text"
      },
      "source": [
        "Para el reconocimiento de expreciones faciales en video se usará resdes convolucionadas y sobre ellas redes recurrentes."
      ]
    },
    {
      "cell_type": "markdown",
      "metadata": {
        "colab_type": "text",
        "id": "L1dUChhopRt2"
      },
      "source": [
        "# Conectar con drive para leer los datos desde allí \n"
      ]
    },
    {
      "cell_type": "code",
      "metadata": {
        "colab_type": "code",
        "id": "7OBfBJLxnb3q",
        "colab": {
          "base_uri": "https://localhost:8080/",
          "height": 34
        },
        "outputId": "fed7656f-ecb5-4c99-ecf0-46bfe381416d"
      },
      "source": [
        "from google.colab import drive #Conexión con Drive\n",
        "drive.mount('/content/drive')"
      ],
      "execution_count": 1,
      "outputs": [
        {
          "output_type": "stream",
          "text": [
            "Drive already mounted at /content/drive; to attempt to forcibly remount, call drive.mount(\"/content/drive\", force_remount=True).\n"
          ],
          "name": "stdout"
        }
      ]
    },
    {
      "cell_type": "markdown",
      "metadata": {
        "colab_type": "text",
        "id": "PeuuH-vro3qe"
      },
      "source": [
        "# Librerias en uso"
      ]
    },
    {
      "cell_type": "code",
      "metadata": {
        "colab_type": "code",
        "id": "qnrNpZEmM5OA",
        "colab": {
          "base_uri": "https://localhost:8080/",
          "height": 34
        },
        "outputId": "a3194928-b6cb-4d04-9f2a-904bba6a9458"
      },
      "source": [
        "import cv2     # Para capturar videos\n",
        "import os\n",
        "import math   \n",
        "import matplotlib.pyplot as plt    # for plotting the images\n",
        "%matplotlib inline\n",
        "import pandas as pd\n",
        "from keras.preprocessing import image   # for preprocessing the images\n",
        "import numpy as np    \n",
        "from keras.utils import np_utils\n",
        "from skimage.transform import resize   # for resizing images\n",
        "\n",
        "import tensorflow as tf\n"
      ],
      "execution_count": 2,
      "outputs": [
        {
          "output_type": "stream",
          "text": [
            "Using TensorFlow backend.\n"
          ],
          "name": "stderr"
        }
      ]
    },
    {
      "cell_type": "code",
      "metadata": {
        "colab_type": "code",
        "id": "3X8r4q2hopvx",
        "colab": {}
      },
      "source": [
        "#Ubicación de los datos \n",
        "PATH = '/content/drive/My Drive/Minería de datos/Proyecto Minería de datos/data/Video'\n"
      ],
      "execution_count": 3,
      "outputs": []
    },
    {
      "cell_type": "code",
      "metadata": {
        "colab_type": "code",
        "id": "qE3uGkd4BaCq",
        "colab": {}
      },
      "source": [
        "dic  =  {1:'neutral', 2:'calm', 3:'happy', 4:'sad', 5:'angry', 6:'fear', 7:'disgust', 8:'surprise'}"
      ],
      "execution_count": 4,
      "outputs": []
    },
    {
      "cell_type": "markdown",
      "metadata": {
        "colab_type": "text",
        "id": "4Vg71NQW8zSW"
      },
      "source": [
        "Se determinó a través del camino de la carpeta los archivos que encontramos en el objeto ``dir_list``\n",
        "\n"
      ]
    },
    {
      "cell_type": "code",
      "metadata": {
        "colab_type": "code",
        "id": "OOCMP9vYBj99",
        "colab": {}
      },
      "source": [
        "dir_list = os.listdir(PATH)\n",
        "dir_list.sort()\n",
        "#dir_list"
      ],
      "execution_count": 5,
      "outputs": []
    },
    {
      "cell_type": "markdown",
      "metadata": {
        "id": "6yclJTWjYxaJ",
        "colab_type": "text"
      },
      "source": [
        "Se extraerán solo los archivos de Video, es decir \"*.mp4\"\n",
        "y se asignará en listas, la emoción, el modo y la dirección del archivo\n",
        "\n",
        "**Modalidad**:\n",
        "* 01= Video-Audio\n",
        "* 02= Solo video\n",
        "\n",
        "**Canal**\n",
        "* 01= Habla\n",
        "* 02= Canto\n",
        "\n",
        "**Emoción**:\n",
        "*  01=Neutral\n",
        "*  02=Calmado\n",
        "*  03=Feliz\n",
        "*  04=Triste\n",
        "*  05=Enojado\n",
        "*  06=Asustado\n",
        "*  07=Disgustado\n",
        "*  08= Sorprendido\n",
        "\n",
        "Estos fueron extraídos de la **1er, 2da y 3ra posición** respectivamente en el nombre del archivo:"
      ]
    },
    {
      "cell_type": "code",
      "metadata": {
        "id": "1--BP6lQbxha",
        "colab_type": "code",
        "colab": {
          "base_uri": "https://localhost:8080/",
          "height": 34
        },
        "outputId": "0e4e25ce-3def-46e0-9f72-0591961f70e8"
      },
      "source": [
        "dir_list[4200]"
      ],
      "execution_count": null,
      "outputs": [
        {
          "output_type": "execute_result",
          "data": {
            "text/plain": [
              "'02-02-05-02-01-01-08.mp4'"
            ]
          },
          "metadata": {
            "tags": []
          },
          "execution_count": 24
        }
      ]
    },
    {
      "cell_type": "code",
      "metadata": {
        "colab_type": "code",
        "id": "L4nQx7MMBtYN",
        "colab": {}
      },
      "source": [
        "emocion = []\n",
        "modo = []\n",
        "canal= []\n",
        "path = []\n",
        "etiqueta=[]\n",
        "\n",
        "for f in dir_list:\n",
        "  if f.split('.')[1]=='mp4':\n",
        "    part1 = f.split('.')[0].split('-')[2]\n",
        "    part2 = f.split('.')[0].split('-')[1]\n",
        "    part3 = f.split('.')[0].split('-')[0]\n",
        "    etiq = f.split('.')[0]\n",
        "    emocion.append(part1)\n",
        "    canal.append(part2)\n",
        "    modo.append(part3)\n",
        "    etiqueta.append(etiq)\n",
        "    path.append(PATH +'/' + f)\n",
        "    \n",
        "\n"
      ],
      "execution_count": null,
      "outputs": []
    },
    {
      "cell_type": "code",
      "metadata": {
        "id": "_A1cCByGaZot",
        "colab_type": "code",
        "colab": {
          "base_uri": "https://localhost:8080/",
          "height": 204
        },
        "outputId": "0406ba61-babf-41a5-b46f-d482f8b333b4"
      },
      "source": [
        "data.head()"
      ],
      "execution_count": null,
      "outputs": [
        {
          "output_type": "execute_result",
          "data": {
            "text/html": [
              "<div>\n",
              "<style scoped>\n",
              "    .dataframe tbody tr th:only-of-type {\n",
              "        vertical-align: middle;\n",
              "    }\n",
              "\n",
              "    .dataframe tbody tr th {\n",
              "        vertical-align: top;\n",
              "    }\n",
              "\n",
              "    .dataframe thead th {\n",
              "        text-align: right;\n",
              "    }\n",
              "</style>\n",
              "<table border=\"1\" class=\"dataframe\">\n",
              "  <thead>\n",
              "    <tr style=\"text-align: right;\">\n",
              "      <th></th>\n",
              "      <th>path</th>\n",
              "      <th>etiqueta</th>\n",
              "      <th>modo</th>\n",
              "      <th>canal</th>\n",
              "      <th>emocion</th>\n",
              "    </tr>\n",
              "  </thead>\n",
              "  <tbody>\n",
              "    <tr>\n",
              "      <th>0</th>\n",
              "      <td>/content/drive/My Drive/Minería de datos/Proy...</td>\n",
              "      <td>01-01-01-01-01-01-01</td>\n",
              "      <td>01</td>\n",
              "      <td>01</td>\n",
              "      <td>01</td>\n",
              "    </tr>\n",
              "    <tr>\n",
              "      <th>1</th>\n",
              "      <td>/content/drive/My Drive/Minería de datos/Proy...</td>\n",
              "      <td>01-01-01-01-01-01-02</td>\n",
              "      <td>01</td>\n",
              "      <td>01</td>\n",
              "      <td>01</td>\n",
              "    </tr>\n",
              "    <tr>\n",
              "      <th>2</th>\n",
              "      <td>/content/drive/My Drive/Minería de datos/Proy...</td>\n",
              "      <td>01-01-01-01-01-01-03</td>\n",
              "      <td>01</td>\n",
              "      <td>01</td>\n",
              "      <td>01</td>\n",
              "    </tr>\n",
              "    <tr>\n",
              "      <th>3</th>\n",
              "      <td>/content/drive/My Drive/Minería de datos/Proy...</td>\n",
              "      <td>01-01-01-01-01-01-04</td>\n",
              "      <td>01</td>\n",
              "      <td>01</td>\n",
              "      <td>01</td>\n",
              "    </tr>\n",
              "    <tr>\n",
              "      <th>4</th>\n",
              "      <td>/content/drive/My Drive/Minería de datos/Proy...</td>\n",
              "      <td>01-01-01-01-01-01-05</td>\n",
              "      <td>01</td>\n",
              "      <td>01</td>\n",
              "      <td>01</td>\n",
              "    </tr>\n",
              "  </tbody>\n",
              "</table>\n",
              "</div>"
            ],
            "text/plain": [
              "                                                path  ... emocion\n",
              "0  /content/drive/My Drive/Minería de datos/Proy...  ...      01\n",
              "1  /content/drive/My Drive/Minería de datos/Proy...  ...      01\n",
              "2  /content/drive/My Drive/Minería de datos/Proy...  ...      01\n",
              "3  /content/drive/My Drive/Minería de datos/Proy...  ...      01\n",
              "4  /content/drive/My Drive/Minería de datos/Proy...  ...      01\n",
              "\n",
              "[5 rows x 5 columns]"
            ]
          },
          "metadata": {
            "tags": []
          },
          "execution_count": 48
        }
      ]
    },
    {
      "cell_type": "code",
      "metadata": {
        "colab_type": "code",
        "id": "Ix9SibnwZnAT",
        "colab": {
          "base_uri": "https://localhost:8080/",
          "height": 105
        },
        "outputId": "27297f43-7cfd-492f-84bb-d09449094811"
      },
      "source": [
        "data=pd.DataFrame(list(zip(path,etiqueta,modo,canal, emocion)),columns=['path','etiqueta','modo','canal', 'emocion'])\n",
        "data.head()\n",
        "print('Total=',len(data))\n",
        "len(data.loc[data.modo=='02'] )\n",
        "print('Audio y video=',len(data.loc[data.modo=='01'] ))\n",
        "print('Sólo video=',len(data.loc[data.modo=='02'] ))\n",
        "print('canto=',len(data.loc[data.canal=='02'] ))\n",
        "print('Habla=',len(data.loc[data.modo=='02'].loc[data.canal=='01'] ))"
      ],
      "execution_count": null,
      "outputs": [
        {
          "output_type": "stream",
          "text": [
            "Total= 4456\n",
            "Audio y video= 2228\n",
            "Sólo video= 2228\n",
            "canto= 1936\n",
            "Habla= 1260\n"
          ],
          "name": "stdout"
        }
      ]
    },
    {
      "cell_type": "code",
      "metadata": {
        "id": "idypYPmIMAM_",
        "colab_type": "code",
        "colab": {}
      },
      "source": [
        "#data.to_csv(PATH+'datalist.csv')\n",
        "data=pd.read_csv(PATH+'datalist.csv',header=0,names=['path','etiqueta','modo','canal', 'emocion'])"
      ],
      "execution_count": 5,
      "outputs": []
    },
    {
      "cell_type": "markdown",
      "metadata": {
        "id": "zKqEBOwu6FXg",
        "colab_type": "text"
      },
      "source": [
        "## Lista de ubicación, etiquetas y modo\n"
      ]
    },
    {
      "cell_type": "code",
      "metadata": {
        "id": "5Gwfz0eY5aab",
        "colab_type": "code",
        "colab": {
          "base_uri": "https://localhost:8080/",
          "height": 230
        },
        "outputId": "84449e38-1c19-4242-c3bc-bdf3607f3d56"
      },
      "source": [
        "data['emocion']"
      ],
      "execution_count": null,
      "outputs": [
        {
          "output_type": "execute_result",
          "data": {
            "text/plain": [
              "0       1\n",
              "1       1\n",
              "2       1\n",
              "3       1\n",
              "4       1\n",
              "       ..\n",
              "4451    6\n",
              "4452    6\n",
              "4453    6\n",
              "4454    6\n",
              "4455    6\n",
              "Name: emocion, Length: 4456, dtype: int64"
            ]
          },
          "metadata": {
            "tags": []
          },
          "execution_count": 8
        }
      ]
    },
    {
      "cell_type": "markdown",
      "metadata": {
        "colab_type": "text",
        "id": "EWm-r3Wg-JZG"
      },
      "source": [
        "En total se tienen 4456 archivos de video, de los cuales:\n",
        "\n",
        "* 2228 contienen audio y 2228 solo vídeo.\n",
        "* De los que contienen audio, 1260 son de habla.\n",
        "* De los videos sin audio 1260 son de habla.\n",
        "\n",
        "Por tanto concluimos que los vídeos sin audio y con audio son los mismos. \n",
        "\n",
        "\n",
        "Se puede notar que la cantidad de personas para cada uno de los tipos de emociones no es la misma, donde para la emoción neutral tenemos la mitad que para las emociones. Mientras que para las emociones de disgusto y sorprsa tenemos un poco más de la mitad que para las de calma, felicidad, tristeza, enojado y asustado. \n"
      ]
    },
    {
      "cell_type": "code",
      "metadata": {
        "id": "_PD-dYBYXNq0",
        "colab_type": "code",
        "colab": {}
      },
      "source": [
        "emocion = data['emocion'].tolist()\n",
        "modo = data['modo'].tolist()\n",
        "canal= data['canal'].tolist()\n",
        "path = data['path'].tolist()\n",
        "etiqueta= data['etiqueta'].tolist()\n"
      ],
      "execution_count": 6,
      "outputs": []
    },
    {
      "cell_type": "code",
      "metadata": {
        "colab_type": "code",
        "id": "byzbMbJ3FDIJ",
        "colab": {
          "base_uri": "https://localhost:8080/",
          "height": 294
        },
        "outputId": "039aaeec-346c-4358-ea03-7143d85044e3"
      },
      "source": [
        "\n",
        "  \n",
        "# Make a fake dataset:\n",
        "height = pd.DataFrame(emocion).groupby(emocion).size()\n",
        "bars = ('neutral','calmado','Feliz', 'Triste', 'Enojado','Miedo', 'Disgusto','Sorpresa')\n",
        "y_pos = np.arange(len(bars))\n",
        " \n",
        "# Create bars\n",
        "plt.bar(y_pos, height, color = (0.5,0.1,0.5,0.6))\n",
        " \n",
        "# Add title and axis names\n",
        "plt.title('Emociones')\n",
        "plt.xlabel('categorias')\n",
        "plt.ylabel('Número de audios')\n",
        "\n",
        "# Create names on the x-axis\n",
        "plt.xticks(y_pos, bars)\n",
        "\n",
        "\n",
        "# Show graphic\n",
        "plt.show()\n"
      ],
      "execution_count": 8,
      "outputs": [
        {
          "output_type": "display_data",
          "data": {
            "image/png": "[encoded data removed]",
            "text/plain": [
              "<Figure size 432x288 with 1 Axes>"
            ]
          },
          "metadata": {
            "tags": [],
            "needs_background": "light"
          }
        }
      ]
    },
    {
      "cell_type": "markdown",
      "metadata": {
        "id": "db7J5SbIh93T",
        "colab_type": "text"
      },
      "source": [
        "# Pre-procesamiento del video\n",
        "\n",
        "## descripción de los datos\n",
        "Se tienen archivos de video en que 12 Actores y 12 Actrices profesionales, interpretan 6 emociones distintas, diciendo la misma oración en cada interpretación.\n",
        "\n",
        "Los cuadros de video originales son de 1280*720 donde se enfoca el rostro de manera frontal del actor con un fondo blanco y la iluminación es igual para todos.\n",
        "\n",
        "## Propuesta\n",
        "\n",
        "Despues de consultar varios articulos, la propuesta de pre-procesamiento de video se llevará acabo de la siguiente manera:\n",
        "\n",
        "1. Del video se extraerá una secuencia de imagenes\n",
        "2. De cada imagen se identificará e rostro eliminando información no util, por ejemplo, el fondo, las orejas, cabello y cuello.\n",
        "3. Se pone en escala de grises y se alinean los rostros\n",
        "4. Se redimensiona las imagenes\n",
        "\n",
        "\n",
        "\n",
        "## Extraer frames del video y guardar las imagenes\n"
      ]
    },
    {
      "cell_type": "code",
      "metadata": {
        "id": "c3l3meFhZZYj",
        "colab_type": "code",
        "colab": {
          "base_uri": "https://localhost:8080/",
          "height": 70
        },
        "outputId": "c0e5547c-a9bd-4baf-8848-584a4a407a26"
      },
      "source": [
        "\n",
        "video1 = cv2.VideoCapture(path[1])\n",
        "frames = int(cv2.CAP_PROP_FRAME_COUNT) \n",
        "altura= int(cv2.CAP_PROP_FRAME_WIDTH)\n",
        "ancho= int(cv2.CAP_PROP_FRAME_HEIGHT)\n",
        "\n",
        "print('frames =', cv2.VideoCapture.get(video1, frames))\n",
        "print('Altura frame =', cv2.VideoCapture.get(video1, altura))\n",
        "print('Ancho frame =', cv2.VideoCapture.get(video1, ancho))\n"
      ],
      "execution_count": null,
      "outputs": [
        {
          "output_type": "stream",
          "text": [
            "frames = 109.0\n",
            "Altura frame = 1280.0\n",
            "Ancho frame = 720.0\n"
          ],
          "name": "stdout"
        }
      ]
    },
    {
      "cell_type": "markdown",
      "metadata": {
        "id": "AoBw9Mb3f1vQ",
        "colab_type": "text"
      },
      "source": [
        "### Extraeremos el promedio de frames por video para establecer cuantos frames vamos a extraer de cada uno\n",
        "\n",
        "Devido al tiempo de ejecución , se toma una muestra aleatoria de 600 videos y se extrae el numero de frames promedio para cada video, este da al rededor de 122 frames por video, adicional a ellos, la duración de los videos es de 4 segundos aproximadamente. Basandonos en "
      ]
    },
    {
      "cell_type": "code",
      "metadata": {
        "id": "XeNS0nJGjyz-",
        "colab_type": "code",
        "colab": {}
      },
      "source": [
        "from random import sample \n",
        "sample=sample(path,600)\n"
      ],
      "execution_count": null,
      "outputs": []
    },
    {
      "cell_type": "code",
      "metadata": {
        "id": "44ZT2i5_f0lo",
        "colab_type": "code",
        "colab": {
          "base_uri": "https://localhost:8080/",
          "height": 238
        },
        "outputId": "d5eff065-50da-4d2d-a892-8667b4cc8c6b"
      },
      "source": [
        "frames=int(cv2.CAP_PROP_FRAME_COUNT) \n",
        "fps=int(cv2.CAP_PROP_FPS)\n",
        "nframes=0\n",
        "nfps=0\n",
        "item=0\n",
        "for i in sample:\n",
        "  video1 = cv2.VideoCapture(i)\n",
        "  nframes += cv2.VideoCapture.get(video1, frames)\n",
        "  nfps += cv2.VideoCapture.get(video1, fps)\n",
        "  item+=1\n"
      ],
      "execution_count": 5,
      "outputs": [
        {
          "output_type": "error",
          "ename": "NameError",
          "evalue": "ignored",
          "traceback": [
            "\u001b[0;31m---------------------------------------------------------------------------\u001b[0m",
            "\u001b[0;31mNameError\u001b[0m                                 Traceback (most recent call last)",
            "\u001b[0;32m<ipython-input-5-9fbb697acba2>\u001b[0m in \u001b[0;36m<module>\u001b[0;34m()\u001b[0m\n\u001b[1;32m      4\u001b[0m \u001b[0mnfps\u001b[0m\u001b[0;34m=\u001b[0m\u001b[0;36m0\u001b[0m\u001b[0;34m\u001b[0m\u001b[0;34m\u001b[0m\u001b[0m\n\u001b[1;32m      5\u001b[0m \u001b[0mitem\u001b[0m\u001b[0;34m=\u001b[0m\u001b[0;36m0\u001b[0m\u001b[0;34m\u001b[0m\u001b[0;34m\u001b[0m\u001b[0m\n\u001b[0;32m----> 6\u001b[0;31m \u001b[0;32mfor\u001b[0m \u001b[0mi\u001b[0m \u001b[0;32min\u001b[0m \u001b[0msample\u001b[0m\u001b[0;34m:\u001b[0m\u001b[0;34m\u001b[0m\u001b[0;34m\u001b[0m\u001b[0m\n\u001b[0m\u001b[1;32m      7\u001b[0m   \u001b[0mvideo1\u001b[0m \u001b[0;34m=\u001b[0m \u001b[0mcv2\u001b[0m\u001b[0;34m.\u001b[0m\u001b[0mVideoCapture\u001b[0m\u001b[0;34m(\u001b[0m\u001b[0mi\u001b[0m\u001b[0;34m)\u001b[0m\u001b[0;34m\u001b[0m\u001b[0;34m\u001b[0m\u001b[0m\n\u001b[1;32m      8\u001b[0m   \u001b[0mnframes\u001b[0m \u001b[0;34m+=\u001b[0m \u001b[0mcv2\u001b[0m\u001b[0;34m.\u001b[0m\u001b[0mVideoCapture\u001b[0m\u001b[0;34m.\u001b[0m\u001b[0mget\u001b[0m\u001b[0;34m(\u001b[0m\u001b[0mvideo1\u001b[0m\u001b[0;34m,\u001b[0m \u001b[0mframes\u001b[0m\u001b[0;34m)\u001b[0m\u001b[0;34m\u001b[0m\u001b[0;34m\u001b[0m\u001b[0m\n",
            "\u001b[0;31mNameError\u001b[0m: name 'sample' is not defined"
          ]
        }
      ]
    },
    {
      "cell_type": "code",
      "metadata": {
        "id": "-EivVBPElRCq",
        "colab_type": "code",
        "colab": {
          "base_uri": "https://localhost:8080/",
          "height": 34
        },
        "outputId": "60479a30-3c05-4d3c-bdea-31789cd0cd6b"
      },
      "source": [
        "nframes/len(sample)"
      ],
      "execution_count": null,
      "outputs": [
        {
          "output_type": "execute_result",
          "data": {
            "text/plain": [
              "122.555"
            ]
          },
          "metadata": {
            "tags": []
          },
          "execution_count": 92
        }
      ]
    },
    {
      "cell_type": "code",
      "metadata": {
        "id": "Ywj49KbliQjv",
        "colab_type": "code",
        "colab": {
          "base_uri": "https://localhost:8080/",
          "height": 34
        },
        "outputId": "faf1b5d0-51c2-4a17-84bf-a4ed4dff2f1c"
      },
      "source": [
        "nfps/len(sample)"
      ],
      "execution_count": null,
      "outputs": [
        {
          "output_type": "execute_result",
          "data": {
            "text/plain": [
              "29.970029970030343"
            ]
          },
          "metadata": {
            "tags": []
          },
          "execution_count": 26
        }
      ]
    },
    {
      "cell_type": "markdown",
      "metadata": {
        "id": "O5YZZuX29zSv",
        "colab_type": "text"
      },
      "source": [
        "De una muestra aleatoria de tamaño 600, obtuvimos un promedio de 122 frames por vídeo, Conservarlos todos podría significar un costo computacional muy grande, además cada vídeo tiene al rededor de 29 frames por segundo.\n"
      ]
    },
    {
      "cell_type": "code",
      "metadata": {
        "id": "lxwZjlxYgssi",
        "colab_type": "code",
        "colab": {
          "base_uri": "https://localhost:8080/",
          "height": 34
        },
        "outputId": "4bffe140-99b0-44ef-8391-4eb159934600"
      },
      "source": [
        "len(path)"
      ],
      "execution_count": null,
      "outputs": [
        {
          "output_type": "execute_result",
          "data": {
            "text/plain": [
              "4456"
            ]
          },
          "metadata": {
            "tags": []
          },
          "execution_count": 79
        }
      ]
    },
    {
      "cell_type": "markdown",
      "metadata": {
        "id": "P5kYUF-Iwfad",
        "colab_type": "text"
      },
      "source": [
        "## Escalar y convertir a grises\n",
        "\n",
        "convertiremos los videos a escala de grises y reduciremos su resolución de 1280x720 a 256x144 y tambien reduciremos la cantidad de frames a la mitad, con esto, el video tendrá al rededor de 61 frames. en terminos de memoria, el video pasa de ocupar alproximadamente 3MB a 88KB.\n",
        "\n",
        "\n",
        "Para esto se define la siguiente función:"
      ]
    },
    {
      "cell_type": "code",
      "metadata": {
        "id": "GL0JH_RCMWS_",
        "colab_type": "code",
        "colab": {}
      },
      "source": [
        "scala=(256,144)\n",
        "path_salida= PATH+'/newdata/'"
      ],
      "execution_count": 7,
      "outputs": []
    },
    {
      "cell_type": "code",
      "metadata": {
        "id": "ZnyHsIAvY0-n",
        "colab_type": "code",
        "colab": {}
      },
      "source": [
        "\n",
        "def scala_y_gris(video_original,path_salida,nombre,scala):\n",
        "  i=0\n",
        "  cap = cv2.VideoCapture(video_original)\n",
        "  fourcc = cv2.VideoWriter_fourcc(*'XVID')\n",
        "  out = cv2.VideoWriter(path_salida+nombre+'.avi',fourcc,24,scala,isColor=False)\n",
        "  while True:\n",
        "    ret, frame = cap.read()\n",
        "    i+=1\n",
        "    if ret == True:\n",
        "      if i%2==0:\n",
        "        b = cv2.resize(frame,scala,fx=0,fy=0, interpolation = cv2.INTER_CUBIC)\n",
        "        b= cv2.cvtColor(b, cv2.COLOR_BGR2GRAY)\n",
        "        out.write(b)\n",
        "    else:\n",
        "        break\n",
        "  cap.release()\n",
        "  out.release()\n",
        "  cv2.destroyAllWindows()\n",
        "  return out\n"
      ],
      "execution_count": 8,
      "outputs": []
    },
    {
      "cell_type": "markdown",
      "metadata": {
        "id": "BUqr_r9WNaCZ",
        "colab_type": "text"
      },
      "source": [
        "Con esta función se crea el nuevo conjunto de datos con os videos reducidos"
      ]
    },
    {
      "cell_type": "code",
      "metadata": {
        "id": "FSMFP7A2NipW",
        "colab_type": "code",
        "colab": {}
      },
      "source": [
        "for i in range(len(path)):\n",
        "  scala_y_gris(path[i],path_salida,etiqueta[i],scala)"
      ],
      "execution_count": null,
      "outputs": []
    },
    {
      "cell_type": "markdown",
      "metadata": {
        "id": "NLz0UxTnASBW",
        "colab_type": "text"
      },
      "source": [
        "## Extraer rostros y alinear\n",
        "Una vez escalados los videos y reducidos vamos a itentar cortar el rostro decada uno y poner en un tensor la secuencia de rostros.\n",
        "\n",
        "* Para extraer los rostros se usará un detector facial pre-entrenado ya existente \"dlib\"\n",
        "* Luego se extraen las coordenadas del recuadro que contiene el rostro\n",
        "* Se extrae la imagen que contiene sólo el rostro y se escala a un tamaño unico para asignarla a un tensor.\n"
      ]
    },
    {
      "cell_type": "code",
      "metadata": {
        "id": "5HSrrPlTE6bS",
        "colab_type": "code",
        "colab": {}
      },
      "source": [
        "import cv2\n",
        "import dlib\n",
        "import numpy as np\n",
        "from google.colab.patches import cv2_imshow\n"
      ],
      "execution_count": 8,
      "outputs": []
    },
    {
      "cell_type": "code",
      "metadata": {
        "id": "C-kOQPVXlNPm",
        "colab_type": "code",
        "colab": {
          "base_uri": "https://localhost:8080/",
          "height": 34
        },
        "outputId": "03e5a61a-09f7-4b57-d97a-37280974c7fc"
      },
      "source": [
        "path_salida"
      ],
      "execution_count": null,
      "outputs": [
        {
          "output_type": "execute_result",
          "data": {
            "text/plain": [
              "'/content/drive/My Drive/Minería de datos/Proyecto Minería de datos/data/Video/newdata/'"
            ]
          },
          "metadata": {
            "tags": []
          },
          "execution_count": 16
        }
      ]
    },
    {
      "cell_type": "code",
      "metadata": {
        "id": "tBaGXACkLsWu",
        "colab_type": "code",
        "colab": {
          "base_uri": "https://localhost:8080/",
          "height": 34
        },
        "outputId": "94640a4d-aa10-4e37-9c3f-e9325872cf0d"
      },
      "source": [
        "cap = cv2.VideoCapture(path_salida+etiqueta[2]+'.avi')\n",
        "f, im = cap.read()\n",
        "# Initialize dlib's face detector\n",
        "detector = dlib.get_frontal_face_detector()\n",
        "# Detecting faces in the grayscale image\n",
        "faces = detector(im)\n",
        "print(faces)\n"
      ],
      "execution_count": null,
      "outputs": [
        {
          "output_type": "stream",
          "text": [
            "rectangles[[(93, 45) (165, 117)]]\n"
          ],
          "name": "stdout"
        }
      ]
    },
    {
      "cell_type": "code",
      "metadata": {
        "id": "6J9VTLptMCw2",
        "colab_type": "code",
        "colab": {
          "base_uri": "https://localhost:8080/",
          "height": 161
        },
        "outputId": "38235b19-fe4b-4331-b1ef-ad72560952ff"
      },
      "source": [
        "# Creating a for loop in order to extract\n",
        "# specific coordinates (x1,x2,y1,y2)\n",
        "for face in faces:\n",
        "  x1=face.left()\n",
        "  y1=face.top()\n",
        "  x2=face.right()\n",
        "  y2=face.bottom()\n",
        "# Drawing a rectangle around the face\n",
        "  cv2.rectangle(im, (x1,y1), (x2,y2),(0,255,0),3)\n",
        "cv2_imshow(im)"
      ],
      "execution_count": null,
      "outputs": [
        {
          "output_type": "display_data",
          "data": {
            "image/png": "[encoded data removed]",
            "text/plain": [
              "<PIL.Image.Image image mode=RGB size=256x144 at 0x7F505E1CE518>"
            ]
          },
          "metadata": {
            "tags": []
          }
        }
      ]
    },
    {
      "cell_type": "markdown",
      "metadata": {
        "id": "W6vgPb9wfchU",
        "colab_type": "text"
      },
      "source": [
        "### Cortar rostros\n",
        "Se corta el recuadro detectado por **dlib** y se redimensiona a 48x48 para obtener así una medida estandar en los rostros recortados"
      ]
    },
    {
      "cell_type": "code",
      "metadata": {
        "id": "pN8nxaZGAj0i",
        "colab_type": "code",
        "colab": {
          "base_uri": "https://localhost:8080/",
          "height": 257
        },
        "outputId": "cbd35a6e-e189-4935-9e1a-03dcd03c45e3"
      },
      "source": [
        "cap = cv2.VideoCapture(path_salida+etiqueta[4000]+'.avi')\n",
        "i=0\n",
        "while True:\n",
        "    f, im = cap.read() # f returns only True, False according to video access\n",
        "    # (f, im) = video.read() # video \n",
        "\n",
        "    if f != True:\n",
        "      cv2_imshow(numpy_horiz_concat)\n",
        "      break\n",
        "    detector = dlib.get_frontal_face_detector()\n",
        "    faces = detector(im)\n",
        "    #print(faces)\n",
        "    \n",
        "    for face in faces:\n",
        "      x1=face.left()\n",
        "      y1=face.top()\n",
        "      x2=face.right()\n",
        "      y2=face.bottom()#\n",
        "      # Dibujar el rectangulo\n",
        "      #cv2.rectangle(im, (x1,y1), (x2,y2),(0,255,0),3)\n",
        "\n",
        "    sub_face = im[y1:y2, x1:x2]\n",
        "    sub_face= cv2.resize(sub_face,(48,48),fx=0,fy=0, interpolation = cv2.INTER_CUBIC)\n",
        "    #cv2_imshow(sub_face)\n",
        "    im=sub_face\n",
        "    if i==0:\n",
        "      numpy_horiz_concat=im\n",
        "    elif i%16 !=0:\n",
        "      numpy_horiz_concat = np.concatenate((numpy_horiz_concat,im), axis=1)\n",
        "    else:\n",
        "      cv2_imshow(numpy_horiz_concat)\n",
        "      numpy_horiz_concat=im\n",
        "    i+=1\n",
        "\n",
        "cap.release()\n",
        "cv2.destroyAllWindows()\n"
      ],
      "execution_count": null,
      "outputs": [
        {
          "output_type": "display_data",
          "data": {
            "image/png": "[encoded data removed]",
            "text/plain": [
              "<PIL.Image.Image image mode=RGB size=768x48 at 0x7FBAF6F7E4A8>"
            ]
          },
          "metadata": {
            "tags": []
          }
        },
        {
          "output_type": "display_data",
          "data": {
            "image/png": "[encoded data removed]",
            "text/plain": [
              "<PIL.Image.Image image mode=RGB size=768x48 at 0x7FBAF6F7E4A8>"
            ]
          },
          "metadata": {
            "tags": []
          }
        },
        {
          "output_type": "display_data",
          "data": {
            "image/png": "[encoded data removed]",
            "text/plain": [
              "<PIL.Image.Image image mode=RGB size=768x48 at 0x7FBAF6F7E4A8>"
            ]
          },
          "metadata": {
            "tags": []
          }
        },
        {
          "output_type": "display_data",
          "data": {
            "image/png": "[encoded data removed]",
            "text/plain": [
              "<PIL.Image.Image image mode=RGB size=768x48 at 0x7FBAF6F7E4A8>"
            ]
          },
          "metadata": {
            "tags": []
          }
        },
        {
          "output_type": "display_data",
          "data": {
            "image/png": "[encoded data removed]",
            "text/plain": [
              "<PIL.Image.Image image mode=RGB size=480x48 at 0x7FBAF6F7E4A8>"
            ]
          },
          "metadata": {
            "tags": []
          }
        }
      ]
    },
    {
      "cell_type": "code",
      "metadata": {
        "id": "uqDLimf-kDIC",
        "colab_type": "code",
        "colab": {
          "base_uri": "https://localhost:8080/",
          "height": 34
        },
        "outputId": "f982b879-6f05-4160-84d5-472d0cee461f"
      },
      "source": [
        "i=26\n",
        "i%1==0"
      ],
      "execution_count": null,
      "outputs": [
        {
          "output_type": "execute_result",
          "data": {
            "text/plain": [
              "True"
            ]
          },
          "metadata": {
            "tags": []
          },
          "execution_count": 98
        }
      ]
    },
    {
      "cell_type": "code",
      "metadata": {
        "id": "7h81xER8WP5y",
        "colab_type": "code",
        "colab": {}
      },
      "source": [
        "scala=(256,144)\n",
        "tamano=(48,48)\n",
        "path_salida2= PATH+'/cropped_face/'\n",
        "\n",
        "def recorte(video_original,path_salida,nombre,tamano):\n",
        "  i=0\n",
        "  cap = cv2.VideoCapture(video_original)\n",
        "  fourcc = cv2.VideoWriter_fourcc(*'XVID')\n",
        "  out = cv2.VideoWriter(path_salida+nombre+'.avi',fourcc,24,tamano,isColor=False)\n",
        "  while True:\n",
        "    ret, frame = cap.read()\n",
        "    i+=1\n",
        "    if ret == True:\n",
        "      if i%1==0:\n",
        "        im= frame\n",
        "        detector = dlib.get_frontal_face_detector()\n",
        "        faces = detector(im)\n",
        "        \n",
        "        for face in faces:\n",
        "          x1=face.left()\n",
        "          y1=face.top()\n",
        "          x2=face.right()\n",
        "          y2=face.bottom()\n",
        "\n",
        "        sub_face = im[y1:y2, x1:x2]\n",
        "        sub_face= cv2.resize(sub_face,tamano,fx=0,fy=0, interpolation = cv2.INTER_CUBIC)\n",
        "        im=sub_face\n",
        "        out.write(im)\n",
        "    else:\n",
        "      break\n",
        "  cap.release()\n",
        "  out.release()\n",
        "  cv2.destroyAllWindows()\n",
        "  return out"
      ],
      "execution_count": 9,
      "outputs": []
    },
    {
      "cell_type": "code",
      "metadata": {
        "id": "pdDVR7r_jIa-",
        "colab_type": "code",
        "colab": {
          "base_uri": "https://localhost:8080/",
          "height": 34
        },
        "outputId": "8b6f1513-3469-44f1-a217-df833fe5b01f"
      },
      "source": [
        "recorte(path_salida+etiqueta[8]+'.avi',path_salida2,etiqueta[8],tamano)"
      ],
      "execution_count": null,
      "outputs": [
        {
          "output_type": "execute_result",
          "data": {
            "text/plain": [
              "<VideoWriter 0x7f594e2a3070>"
            ]
          },
          "metadata": {
            "tags": []
          },
          "execution_count": 106
        }
      ]
    },
    {
      "cell_type": "code",
      "metadata": {
        "id": "vQ8NzdrtW9A-",
        "colab_type": "code",
        "colab": {
          "base_uri": "https://localhost:8080/",
          "height": 34
        },
        "outputId": "026ce071-fab0-4da4-e974-0af064db0ddc"
      },
      "source": [
        "import time\n",
        "\n",
        "start = time.time()\n",
        "\n",
        "for i in range(1):\n",
        "  recorte(path_salida+etiqueta[i]+'.avi',path_salida2,etiqueta[i],tamano)\n",
        "\n",
        "end = time.time()\n",
        "print(end-start)"
      ],
      "execution_count": null,
      "outputs": [
        {
          "output_type": "stream",
          "text": [
            "17.868488788604736\n"
          ],
          "name": "stdout"
        }
      ]
    },
    {
      "cell_type": "code",
      "metadata": {
        "id": "kfQSjgmET7fa",
        "colab_type": "code",
        "colab": {}
      },
      "source": [
        "scala=(256,144)\n",
        "tamano=(48,48)\n",
        "def scala_recorte_y_gris(video_original,path_salida,nombre,scala,tamano):\n",
        "  i=0\n",
        "  cap = cv2.VideoCapture(video_original)\n",
        "  fourcc = cv2.VideoWriter_fourcc(*'XVID')\n",
        "  out = cv2.VideoWriter(path_salida+nombre+'.avi',fourcc,24,tamano,isColor=False)\n",
        "  while True:\n",
        "    ret, frame = cap.read()\n",
        "    i+=1\n",
        "    if ret == True:\n",
        "      if i%1==0:\n",
        "      #if i%2==0:\n",
        "        b = cv2.resize(frame,scala,fx=0,fy=0, interpolation = cv2.INTER_CUBIC)\n",
        "        b= cv2.cvtColor(b, cv2.COLOR_BGR2GRAY)\n",
        "        im= b\n",
        "        detector = dlib.get_frontal_face_detector()\n",
        "        faces = detector(im)\n",
        "        \n",
        "        for face in faces:\n",
        "          x1=face.left()\n",
        "          y1=face.top()\n",
        "          x2=face.right()\n",
        "          y2=face.bottom()\n",
        "\n",
        "        sub_face = im[y1:y2, x1:x2]\n",
        "        sub_face= cv2.resize(sub_face,tamano,fx=0,fy=0, interpolation = cv2.INTER_CUBIC)\n",
        "        im=sub_face\n",
        "        out.write(im)\n",
        "    else:\n",
        "      break\n",
        "  cap.release()\n",
        "  out.release()\n",
        "  cv2.destroyAllWindows()\n",
        "  return out"
      ],
      "execution_count": 10,
      "outputs": []
    },
    {
      "cell_type": "code",
      "metadata": {
        "id": "ixvDkxVRg6i2",
        "colab_type": "code",
        "colab": {
          "base_uri": "https://localhost:8080/",
          "height": 34
        },
        "outputId": "a696586f-94bf-4a62-e476-187159098398"
      },
      "source": [
        "path_salida"
      ],
      "execution_count": null,
      "outputs": [
        {
          "output_type": "execute_result",
          "data": {
            "text/plain": [
              "'/content/drive/My Drive/Minería de datos/Proyecto Minería de datos/data/Video/newdata/'"
            ]
          },
          "metadata": {
            "tags": []
          },
          "execution_count": 84
        }
      ]
    },
    {
      "cell_type": "code",
      "metadata": {
        "id": "cDgUYXrzTHIu",
        "colab_type": "code",
        "colab": {}
      },
      "source": [
        "for i in range(571,len(etiqueta)): # quedó en i=1336\n",
        "  scala_recorte_y_gris(path_salida+etiqueta[i]+'.avi',path_salida2,etiqueta[i],scala,tamano)"
      ],
      "execution_count": null,
      "outputs": []
    },
    {
      "cell_type": "markdown",
      "metadata": {
        "id": "9sYzkaO6ECjG",
        "colab_type": "text"
      },
      "source": [
        "## Por ahora trabajaremos con los datos speech\n",
        "los videos deben dejarse de una cantidad exacta de frames"
      ]
    },
    {
      "cell_type": "code",
      "metadata": {
        "id": "ciXPFJKep_f9",
        "colab_type": "code",
        "colab": {}
      },
      "source": [
        "path_caras= PATH+'/cropped_face/'\n",
        "dir_list = os.listdir(path_caras)\n",
        "dir_list.sort()\n",
        "#dir_list"
      ],
      "execution_count": 11,
      "outputs": []
    },
    {
      "cell_type": "code",
      "metadata": {
        "id": "s4clUKrJHRSj",
        "colab_type": "code",
        "colab": {
          "base_uri": "https://localhost:8080/",
          "height": 34
        },
        "outputId": "3c38a1d9-32bd-4b9c-f9e4-fb96b1b00bab"
      },
      "source": [
        "dir_list[1].split('.')[0].split('-')"
      ],
      "execution_count": null,
      "outputs": [
        {
          "output_type": "execute_result",
          "data": {
            "text/plain": [
              "['01', '01', '01', '01', '01', '01', '02']"
            ]
          },
          "metadata": {
            "tags": []
          },
          "execution_count": 16
        }
      ]
    },
    {
      "cell_type": "code",
      "metadata": {
        "id": "yEnTOafQHAjI",
        "colab_type": "code",
        "colab": {}
      },
      "source": [
        "emo = []\n",
        "mod = []\n",
        "can= []\n",
        "pat = []\n",
        "eti=[]\n",
        "\n",
        "for f in dir_list:\n",
        "  if f.split('.')[1]=='avi':\n",
        "    part1 = f.split('.')[0].split('-')[2]\n",
        "    part2 = f.split('.')[0].split('-')[1]\n",
        "    part3 = f.split('.')[0].split('-')[0]\n",
        "    etiq = f.split('.')[0]\n",
        "    emo.append(part1)\n",
        "    can.append(part2)\n",
        "    mod.append(part3)\n",
        "    eti.append(etiq)\n",
        "    pat.append(path_caras +'/' + f)"
      ],
      "execution_count": 12,
      "outputs": []
    },
    {
      "cell_type": "code",
      "metadata": {
        "id": "JkWcDFgdIS72",
        "colab_type": "code",
        "colab": {
          "base_uri": "https://localhost:8080/",
          "height": 197
        },
        "outputId": "bf6c04d4-2ed8-4b3c-b2cf-cd1ff4508bc4"
      },
      "source": [
        "data_caras=pd.DataFrame(list(zip(pat,eti,mod,can, emo)),columns=['pat','eti','mod','can', 'emo'])\n",
        "data_caras.head()"
      ],
      "execution_count": 13,
      "outputs": [
        {
          "output_type": "execute_result",
          "data": {
            "text/html": [
              "<div>\n",
              "<style scoped>\n",
              "    .dataframe tbody tr th:only-of-type {\n",
              "        vertical-align: middle;\n",
              "    }\n",
              "\n",
              "    .dataframe tbody tr th {\n",
              "        vertical-align: top;\n",
              "    }\n",
              "\n",
              "    .dataframe thead th {\n",
              "        text-align: right;\n",
              "    }\n",
              "</style>\n",
              "<table border=\"1\" class=\"dataframe\">\n",
              "  <thead>\n",
              "    <tr style=\"text-align: right;\">\n",
              "      <th></th>\n",
              "      <th>pat</th>\n",
              "      <th>eti</th>\n",
              "      <th>mod</th>\n",
              "      <th>can</th>\n",
              "      <th>emo</th>\n",
              "    </tr>\n",
              "  </thead>\n",
              "  <tbody>\n",
              "    <tr>\n",
              "      <th>0</th>\n",
              "      <td>/content/drive/My Drive/Minería de datos/Proy...</td>\n",
              "      <td>01-01-01-01-01-01-01</td>\n",
              "      <td>01</td>\n",
              "      <td>01</td>\n",
              "      <td>01</td>\n",
              "    </tr>\n",
              "    <tr>\n",
              "      <th>1</th>\n",
              "      <td>/content/drive/My Drive/Minería de datos/Proy...</td>\n",
              "      <td>01-01-01-01-01-01-02</td>\n",
              "      <td>01</td>\n",
              "      <td>01</td>\n",
              "      <td>01</td>\n",
              "    </tr>\n",
              "    <tr>\n",
              "      <th>2</th>\n",
              "      <td>/content/drive/My Drive/Minería de datos/Proy...</td>\n",
              "      <td>01-01-01-01-01-01-03</td>\n",
              "      <td>01</td>\n",
              "      <td>01</td>\n",
              "      <td>01</td>\n",
              "    </tr>\n",
              "    <tr>\n",
              "      <th>3</th>\n",
              "      <td>/content/drive/My Drive/Minería de datos/Proy...</td>\n",
              "      <td>01-01-01-01-01-01-04</td>\n",
              "      <td>01</td>\n",
              "      <td>01</td>\n",
              "      <td>01</td>\n",
              "    </tr>\n",
              "    <tr>\n",
              "      <th>4</th>\n",
              "      <td>/content/drive/My Drive/Minería de datos/Proy...</td>\n",
              "      <td>01-01-01-01-01-01-05</td>\n",
              "      <td>01</td>\n",
              "      <td>01</td>\n",
              "      <td>01</td>\n",
              "    </tr>\n",
              "  </tbody>\n",
              "</table>\n",
              "</div>"
            ],
            "text/plain": [
              "                                                 pat  ... emo\n",
              "0  /content/drive/My Drive/Minería de datos/Proy...  ...  01\n",
              "1  /content/drive/My Drive/Minería de datos/Proy...  ...  01\n",
              "2  /content/drive/My Drive/Minería de datos/Proy...  ...  01\n",
              "3  /content/drive/My Drive/Minería de datos/Proy...  ...  01\n",
              "4  /content/drive/My Drive/Minería de datos/Proy...  ...  01\n",
              "\n",
              "[5 rows x 5 columns]"
            ]
          },
          "metadata": {
            "tags": []
          },
          "execution_count": 13
        }
      ]
    },
    {
      "cell_type": "code",
      "metadata": {
        "id": "kdH1pPDzYcjw",
        "colab_type": "code",
        "colab": {
          "base_uri": "https://localhost:8080/",
          "height": 34
        },
        "outputId": "9ebf9e9b-30f1-4b5d-a580-3dbe19246d8d"
      },
      "source": [
        ""
      ],
      "execution_count": 87,
      "outputs": [
        {
          "output_type": "execute_result",
          "data": {
            "text/plain": [
              "4456"
            ]
          },
          "metadata": {
            "tags": []
          },
          "execution_count": 87
        }
      ]
    },
    {
      "cell_type": "markdown",
      "metadata": {
        "id": "IyYVGVdiYYLC",
        "colab_type": "text"
      },
      "source": [
        "Tomemos los videos correspondientes a speech"
      ]
    },
    {
      "cell_type": "code",
      "metadata": {
        "id": "4B5LDhV4L3xI",
        "colab_type": "code",
        "colab": {}
      },
      "source": [
        "data_caras[(data_caras['can']=='01')&(data_caras['mod']=='01')]\n",
        "height =data_caras[data_caras['can']=='01'].groupby('emo').size()"
      ],
      "execution_count": 60,
      "outputs": []
    },
    {
      "cell_type": "code",
      "metadata": {
        "id": "lq9Rd0yXKvGF",
        "colab_type": "code",
        "colab": {
          "base_uri": "https://localhost:8080/",
          "height": 294
        },
        "outputId": "32a564ad-f2cc-4dbf-ca61-fa77efc51748"
      },
      "source": [
        "# Make a fake dataset:\n",
        "height =data_caras[(data_caras['can']=='01')&(data_caras['mod']=='01')].groupby('emo').size()\n",
        "bars = ('neutral','calmado','Feliz', 'Triste', 'Enojado','Miedo', 'Disgusto','Sorpresa')\n",
        "y_pos = np.arange(len(bars))\n",
        " \n",
        "# Create bars\n",
        "plt.bar(y_pos, height, color = (0.9,0.1,0.5,0.6))\n",
        " \n",
        "# Add title and axis names\n",
        "plt.title('Emociones')\n",
        "plt.xlabel('categorias')\n",
        "plt.ylabel('Número de audios')\n",
        "\n",
        "# Create names on the x-axis\n",
        "plt.xticks(y_pos, bars)\n",
        "\n",
        "\n",
        "# Show graphic\n",
        "plt.show()"
      ],
      "execution_count": 14,
      "outputs": [
        {
          "output_type": "display_data",
          "data": {
            "image/png": "[encoded data removed]",
            "text/plain": [
              "<Figure size 432x288 with 1 Axes>"
            ]
          },
          "metadata": {
            "tags": [],
            "needs_background": "light"
          }
        }
      ]
    },
    {
      "cell_type": "markdown",
      "metadata": {
        "id": "kjYhTuKYR7Mp",
        "colab_type": "text"
      },
      "source": [
        "los videos deben dejarse de una cantidad exacta de frames."
      ]
    },
    {
      "cell_type": "code",
      "metadata": {
        "id": "ZQV5BSgHW05Z",
        "colab_type": "code",
        "colab": {}
      },
      "source": [
        "caras_spech= data_caras[(data_caras['can']=='01')&(data_caras['mod']=='01')].pat.tolist()\n",
        "#caras_spech\n"
      ],
      "execution_count": 17,
      "outputs": []
    },
    {
      "cell_type": "markdown",
      "metadata": {
        "id": "0VsW8Z3qss_D",
        "colab_type": "text"
      },
      "source": [
        "Convertimos los vídeos a un tensor:\n",
        "La siguiente función convierte los videos a un tensor de tamaño fijo, es decir antendrá del video un número especifico de frames para obtener al final tensores de igual tamaño, se mantendrán los n frames medios de cada video\n"
      ]
    },
    {
      "cell_type": "code",
      "metadata": {
        "id": "1ZN0DqpnR1_t",
        "colab_type": "code",
        "colab": {}
      },
      "source": [
        "def video_to_tensor(video,nframes):\n",
        "  cap = cv2.VideoCapture(video)\n",
        "  i=0\n",
        "  frames = int(cv2.CAP_PROP_FRAME_COUNT) \n",
        "  n=cv2.VideoCapture.get(cap, frames) #número de frames en el video\n",
        "  #Vamos a eliminar los frmaes sobrantes \n",
        "  delete=(n-nframes)\n",
        "  r=[]\n",
        "  while True:\n",
        "    f, im = cap.read() # \n",
        "    if f != True:\n",
        "      break\n",
        "    if delete== 0. :\n",
        "        im=tf.image.rgb_to_grayscale(im, name=None)\n",
        "        if i==0:\n",
        "          array=im\n",
        "        else:\n",
        "          array=tf.concat([array,im],2)\n",
        "    \n",
        "    \n",
        "      \n",
        "    elif delete==1: #me devuelve los  nframes del medio\n",
        "        im=tf.image.rgb_to_grayscale(im, name=None)\n",
        "        if i>=1 :\n",
        "            if i==1:\n",
        "              array=im\n",
        "            else:\n",
        "              array=tf.concat([array,im],2)\n",
        "            r.append(i)\n",
        "        \n",
        "      \n",
        "    elif (i>(delete-(np.floor(delete/2))) and i<= (n-(np.floor(delete/2)))): #me devuelve los  nframes del medio\n",
        "        im=tf.image.rgb_to_grayscale(im, name=None)\n",
        "        if i==((delete-(np.floor(delete/2)))+1):\n",
        "          array=im\n",
        "        else:\n",
        "          array=tf.concat([array,im],2)\n",
        "        r.append(i)\n",
        "    i+=1\n",
        "\n",
        "  cap.release()\n",
        "  cv2.destroyAllWindows()\n",
        "  return array"
      ],
      "execution_count": 15,
      "outputs": []
    },
    {
      "cell_type": "code",
      "metadata": {
        "id": "fl4mDlVJGt-Q",
        "colab_type": "code",
        "colab": {
          "base_uri": "https://localhost:8080/",
          "height": 34
        },
        "outputId": "683513b4-b3f1-4f73-8bbf-196e81c2f227"
      },
      "source": [
        "delete=1\n",
        "np.floor(delete/2)"
      ],
      "execution_count": 56,
      "outputs": [
        {
          "output_type": "execute_result",
          "data": {
            "text/plain": [
              "0.0"
            ]
          },
          "metadata": {
            "tags": []
          },
          "execution_count": 56
        }
      ]
    },
    {
      "cell_type": "code",
      "metadata": {
        "id": "WjWo-qdEuC2k",
        "colab_type": "code",
        "colab": {
          "base_uri": "https://localhost:8080/",
          "height": 905
        },
        "outputId": "39dcdcc2-09f1-4d3f-c1ff-39828c24baa9"
      },
      "source": [
        "video_to_tensor(caras_spech[219],44) #44 frames de cada video"
      ],
      "execution_count": 75,
      "outputs": [
        {
          "output_type": "execute_result",
          "data": {
            "text/plain": [
              "<tf.Tensor: shape=(48, 48, 44), dtype=uint8, numpy=\n",
              "array([[[ 26,  17,  12, ...,  24,  27,  24],\n",
              "        [ 53,  48,  45, ...,  40,  46,  55],\n",
              "        [ 79,  76,  74, ...,  75,  81,  85],\n",
              "        ...,\n",
              "        [ 19,  20,  17, ...,  22,  19,  15],\n",
              "        [ 13,  17,  17, ...,  18,  20,  23],\n",
              "        [ 62,  55,  54, ...,  58,  97, 133]],\n",
              "\n",
              "       [[ 24,  17,  17, ...,  29,  24,  31],\n",
              "        [ 48,  40,  38, ...,  34,  43,  44],\n",
              "        [ 75,  80,  79, ...,  80,  82,  87],\n",
              "        ...,\n",
              "        [ 19,  17,  16, ...,  18,  18,  15],\n",
              "        [ 17,  18,  17, ...,  15,  12,  10],\n",
              "        [ 40,  32,  31, ...,  72,  97, 119]],\n",
              "\n",
              "       [[ 20,  17,  23, ...,  19,  19,  24],\n",
              "        [ 39,  31,  34, ...,  33,  37,  47],\n",
              "        [ 80,  80,  80, ...,  67,  80,  79],\n",
              "        ...,\n",
              "        [ 13,  10,  11, ...,  11,  13,  19],\n",
              "        [ 18,  20,  18, ...,  17,  19,  18],\n",
              "        [ 31,  25,  24, ..., 110, 152, 181]],\n",
              "\n",
              "       ...,\n",
              "\n",
              "       [[253, 253, 253, ..., 252, 253, 253],\n",
              "        [255, 255, 255, ..., 255, 255, 253],\n",
              "        [253, 253, 253, ..., 251, 251, 252],\n",
              "        ...,\n",
              "        [ 80,  79,  76, ..., 200, 206, 206],\n",
              "        [111, 110, 117, ..., 252, 253, 253],\n",
              "        [255, 255, 253, ..., 252, 255, 255]],\n",
              "\n",
              "       [[251, 251, 251, ..., 250, 251, 251],\n",
              "        [252, 252, 252, ..., 255, 255, 255],\n",
              "        [252, 252, 252, ..., 253, 253, 255],\n",
              "        ...,\n",
              "        [ 81,  80,  79, ..., 197, 203, 203],\n",
              "        [111, 109, 115, ..., 252, 253, 253],\n",
              "        [255, 255, 251, ..., 252, 255, 255]],\n",
              "\n",
              "       [[251, 251, 251, ..., 250, 251, 251],\n",
              "        [250, 250, 250, ..., 252, 252, 251],\n",
              "        [251, 251, 251, ..., 255, 255, 255],\n",
              "        ...,\n",
              "        [ 81,  80,  79, ..., 195, 201, 201],\n",
              "        [111, 109, 114, ..., 251, 252, 252],\n",
              "        [255, 255, 251, ..., 252, 255, 255]]], dtype=uint8)>"
            ]
          },
          "metadata": {
            "tags": []
          },
          "execution_count": 75
        }
      ]
    },
    {
      "cell_type": "code",
      "metadata": {
        "id": "aW-wUx5muklj",
        "colab_type": "code",
        "colab": {
          "base_uri": "https://localhost:8080/",
          "height": 34
        },
        "outputId": "63f44dd7-57c2-47f2-9c68-f2a05717e4d1"
      },
      "source": [
        "#import time\n",
        "#start=time.time()\n",
        "video_to_tensor(caras_spech[219],44).shape\n",
        "\n",
        "#end=time.time()\n",
        "#(end-start)"
      ],
      "execution_count": 50,
      "outputs": [
        {
          "output_type": "execute_result",
          "data": {
            "text/plain": [
              "TensorShape([48, 48, 43])"
            ]
          },
          "metadata": {
            "tags": []
          },
          "execution_count": 50
        }
      ]
    },
    {
      "cell_type": "markdown",
      "metadata": {
        "id": "SyvtpMd3-PIF",
        "colab_type": "text"
      },
      "source": [
        "Cómo el número minímo de frames será 44 se toma la decisión de mantener en cada video los 44 frames medios"
      ]
    },
    {
      "cell_type": "code",
      "metadata": {
        "id": "3ZQSbuM83kor",
        "colab_type": "code",
        "colab": {}
      },
      "source": [
        "\n",
        "a=video_to_tensor(pat[1],44)\n",
        "c=tf.transpose(a)\n"
      ],
      "execution_count": 162,
      "outputs": []
    },
    {
      "cell_type": "code",
      "metadata": {
        "id": "H1B8xxoeLh-5",
        "colab_type": "code",
        "colab": {
          "base_uri": "https://localhost:8080/",
          "height": 34
        },
        "outputId": "37161e2a-65a5-466f-b908-a04e2f1d96da"
      },
      "source": [
        "tf.shape(c)"
      ],
      "execution_count": 294,
      "outputs": [
        {
          "output_type": "execute_result",
          "data": {
            "text/plain": [
              "<tf.Tensor: shape=(3,), dtype=int32, numpy=array([44, 48, 48], dtype=int32)>"
            ]
          },
          "metadata": {
            "tags": []
          },
          "execution_count": 294
        }
      ]
    },
    {
      "cell_type": "code",
      "metadata": {
        "id": "GXENFlggNzti",
        "colab_type": "code",
        "colab": {
          "base_uri": "https://localhost:8080/",
          "height": 284
        },
        "outputId": "230021c2-bcb7-4421-da98-c18c69889cef"
      },
      "source": [
        "plt.imshow(c[21])"
      ],
      "execution_count": 164,
      "outputs": [
        {
          "output_type": "execute_result",
          "data": {
            "text/plain": [
              "<matplotlib.image.AxesImage at 0x7fbaf5df8588>"
            ]
          },
          "metadata": {
            "tags": []
          },
          "execution_count": 164
        },
        {
          "output_type": "display_data",
          "data": {
            "image/png": "[encoded data removed]",
            "text/plain": [
              "<Figure size 432x288 with 1 Axes>"
            ]
          },
          "metadata": {
            "tags": [],
            "needs_background": "light"
          }
        }
      ]
    },
    {
      "cell_type": "markdown",
      "metadata": {
        "id": "CFmmnDML8nzU",
        "colab_type": "text"
      },
      "source": [
        "Se crea el conjunto de datos que tendrá los tensores/ videos y los labels que en este caso son las emociones:"
      ]
    },
    {
      "cell_type": "code",
      "metadata": {
        "id": "bucAb4bt0ZMU",
        "colab_type": "code",
        "colab": {}
      },
      "source": [
        "lst=data_caras.loc[(data_caras['can']=='01')&(data_caras['mod']=='01'),['pat','emo']].values.tolist()"
      ],
      "execution_count": 35,
      "outputs": []
    },
    {
      "cell_type": "code",
      "metadata": {
        "id": "G629RTZ5-YnI",
        "colab_type": "code",
        "colab": {
          "base_uri": "https://localhost:8080/",
          "height": 52
        },
        "outputId": "093b924d-1f4a-46c4-8743-8f7c3204fe55"
      },
      "source": [
        "lst[1]"
      ],
      "execution_count": 36,
      "outputs": [
        {
          "output_type": "execute_result",
          "data": {
            "text/plain": [
              "['/content/drive/My Drive/Minería de datos/Proyecto Minería de datos/data/Video/cropped_face//01-01-01-01-01-01-02.avi',\n",
              " '01']"
            ]
          },
          "metadata": {
            "tags": []
          },
          "execution_count": 36
        }
      ]
    },
    {
      "cell_type": "code",
      "metadata": {
        "id": "efQdrl9d8WdQ",
        "colab_type": "code",
        "colab": {
          "base_uri": "https://localhost:8080/",
          "height": 34
        },
        "outputId": "59ac4f2c-faaf-4eca-9c4f-282e8545df67"
      },
      "source": [
        "star=time.time()\n",
        "arr=video_to_tensor(p[0],44),p[1]\n",
        "(time.time()-star)*1260/60"
      ],
      "execution_count": 246,
      "outputs": [
        {
          "output_type": "execute_result",
          "data": {
            "text/plain": [
              "1.5289885997772217"
            ]
          },
          "metadata": {
            "tags": []
          },
          "execution_count": 246
        }
      ]
    },
    {
      "cell_type": "code",
      "metadata": {
        "id": "vs5VqAYh6iKy",
        "colab_type": "code",
        "colab": {}
      },
      "source": [
        "datos=[]\n",
        "No_compatibles=[]\n",
        "for p in lst:\n",
        "  try:\n",
        "    arr=np.asarray(video_to_tensor(p[0],44)),p[1]\n",
        "    datos.append(arr)\n",
        "  except:\n",
        "    No_compatibles.append(p)\n"
      ],
      "execution_count": 76,
      "outputs": []
    },
    {
      "cell_type": "code",
      "metadata": {
        "id": "t9opUYi6GR7w",
        "colab_type": "code",
        "colab": {
          "base_uri": "https://localhost:8080/",
          "height": 34
        },
        "outputId": "c0c51ce0-e01e-4987-e997-29dc3a780ce3"
      },
      "source": [
        "datos[218][0].shape"
      ],
      "execution_count": 77,
      "outputs": [
        {
          "output_type": "execute_result",
          "data": {
            "text/plain": [
              "(48, 48, 44)"
            ]
          },
          "metadata": {
            "tags": []
          },
          "execution_count": 77
        }
      ]
    },
    {
      "cell_type": "code",
      "metadata": {
        "id": "yS99Q8Aj-Q9C",
        "colab_type": "code",
        "colab": {
          "base_uri": "https://localhost:8080/",
          "height": 87
        },
        "outputId": "a751e8b3-ad8a-48ab-8779-c87ab468fe51"
      },
      "source": [
        "No_compatibles"
      ],
      "execution_count": 38,
      "outputs": [
        {
          "output_type": "execute_result",
          "data": {
            "text/plain": [
              "[['/content/drive/My Drive/Minería de datos/Proyecto Minería de datos/data/Video/cropped_face//01-01-02-02-01-02-15.avi',\n",
              "  '02'],\n",
              " ['/content/drive/My Drive/Minería de datos/Proyecto Minería de datos/data/Video/cropped_face//01-01-04-02-02-02-06.avi',\n",
              "  '04']]"
            ]
          },
          "metadata": {
            "tags": []
          },
          "execution_count": 38
        }
      ]
    },
    {
      "cell_type": "markdown",
      "metadata": {
        "id": "sC5uY88W9vhN",
        "colab_type": "text"
      },
      "source": [
        "Ya está completo el pre-procesamiento, y se crea el conjunto de datos co sus etiquetas"
      ]
    },
    {
      "cell_type": "code",
      "metadata": {
        "id": "TasoXm0i9ew-",
        "colab_type": "code",
        "colab": {}
      },
      "source": [
        "x,y=zip(*datos)"
      ],
      "execution_count": 81,
      "outputs": []
    },
    {
      "cell_type": "code",
      "metadata": {
        "id": "Pe7uYLbOSRfs",
        "colab_type": "code",
        "colab": {}
      },
      "source": [
        "s=list(x)\n"
      ],
      "execution_count": 79,
      "outputs": []
    },
    {
      "cell_type": "code",
      "metadata": {
        "id": "rwC_E9yPZ4sr",
        "colab_type": "code",
        "colab": {
          "base_uri": "https://localhost:8080/",
          "height": 34
        },
        "outputId": "8440cfab-401e-41b3-eeed-bad0c92a371f"
      },
      "source": [
        "s[218].shape"
      ],
      "execution_count": 44,
      "outputs": [
        {
          "output_type": "execute_result",
          "data": {
            "text/plain": [
              "(48, 48, 43)"
            ]
          },
          "metadata": {
            "tags": []
          },
          "execution_count": 44
        }
      ]
    },
    {
      "cell_type": "code",
      "metadata": {
        "id": "nKbMgaBJ_Ppm",
        "colab_type": "code",
        "colab": {
          "base_uri": "https://localhost:8080/",
          "height": 34
        },
        "outputId": "089a0a7d-52ce-4bd4-9511-e0c8ab6197f6"
      },
      "source": [
        "x = np.asarray(x)\n",
        "y = np.asarray(y)\n",
        "x.shape, y.shape"
      ],
      "execution_count": 84,
      "outputs": [
        {
          "output_type": "execute_result",
          "data": {
            "text/plain": [
              "((1258, 48, 48, 44), (1258,))"
            ]
          },
          "metadata": {
            "tags": []
          },
          "execution_count": 84
        }
      ]
    },
    {
      "cell_type": "code",
      "metadata": {
        "id": "Y2foaqYhA0pS",
        "colab_type": "code",
        "colab": {
          "base_uri": "https://localhost:8080/",
          "height": 34
        },
        "outputId": "cca35606-e2c3-4c0d-8a6f-a0f9dea9df72"
      },
      "source": [
        "tf.shape([1])"
      ],
      "execution_count": 291,
      "outputs": [
        {
          "output_type": "execute_result",
          "data": {
            "text/plain": [
              "<tf.Tensor: shape=(0,), dtype=int32, numpy=array([], dtype=int32)>"
            ]
          },
          "metadata": {
            "tags": []
          },
          "execution_count": 291
        }
      ]
    },
    {
      "cell_type": "markdown",
      "metadata": {
        "id": "bcf5xTm1CDqJ",
        "colab_type": "text"
      },
      "source": [
        "# Conjunto de datos pre-procesado"
      ]
    },
    {
      "cell_type": "code",
      "metadata": {
        "id": "ek8g4cxHAiTE",
        "colab_type": "code",
        "colab": {}
      },
      "source": [
        "import joblib\n",
        "\n",
        "x_name = 'X_speech.joblib'\n",
        "y_name = 'y_speech.joblib'\n",
        "save_dir ='/content/drive/My Drive/Minería de datos/Proyecto Minería de datos/Model_video'\n",
        "savedx = joblib.dump(x, os.path.join(save_dir, x_name))\n",
        "savedy = joblib.dump(y, os.path.join(save_dir, y_name))"
      ],
      "execution_count": 85,
      "outputs": []
    },
    {
      "cell_type": "code",
      "metadata": {
        "id": "f33WKW-wBkic",
        "colab_type": "code",
        "colab": {}
      },
      "source": [
        "X = joblib.load('/content/drive/My Drive/Minería de datos/Proyecto Minería de datos/Model_video/X_speech.joblib')\n",
        "y = joblib.load('/content/drive/My Drive/Minería de datos/Proyecto Minería de datos/Model_video/y_speech.joblib')\n",
        "y=y.astype(int)"
      ],
      "execution_count": 86,
      "outputs": []
    },
    {
      "cell_type": "markdown",
      "metadata": {
        "id": "vYQ4eAqwYS9X",
        "colab_type": "text"
      },
      "source": [
        "# Datos de canto\n",
        "\n",
        "En los datos de canto no existen las emociones de disgusto y sorpresa"
      ]
    },
    {
      "cell_type": "code",
      "metadata": {
        "id": "zDKFWKc_Z0fz",
        "colab_type": "code",
        "colab": {
          "base_uri": "https://localhost:8080/",
          "height": 158
        },
        "outputId": "d3e331ca-e73f-400e-baa5-52783c3ec1bd"
      },
      "source": [
        "data_caras[(data_caras['can']=='02')&(data_caras['mod']=='01')].groupby('emo').size()"
      ],
      "execution_count": 16,
      "outputs": [
        {
          "output_type": "execute_result",
          "data": {
            "text/plain": [
              "emo\n",
              "01     89\n",
              "02    176\n",
              "03    176\n",
              "04    176\n",
              "05    176\n",
              "06    176\n",
              "dtype: int64"
            ]
          },
          "metadata": {
            "tags": []
          },
          "execution_count": 16
        }
      ]
    },
    {
      "cell_type": "code",
      "metadata": {
        "colab_type": "code",
        "id": "uVMkhIkTZ0wQ",
        "colab": {
          "base_uri": "https://localhost:8080/",
          "height": 294
        },
        "outputId": "52471168-a9da-4714-8583-58d84efb8d7a"
      },
      "source": [
        "# Make a fake dataset:\n",
        "height =data_caras[(data_caras['can']=='02')&(data_caras['mod']=='01')].groupby('emo').size()\n",
        "bars = ('neutral','calmado','Feliz', 'Triste', 'Enojado','Miedo')\n",
        "y_pos = np.arange(len(bars))\n",
        " \n",
        "# Create bars\n",
        "plt.bar(y_pos, height, color = (0.9,0.1,0.5,0.6))\n",
        " \n",
        "# Add title and axis names\n",
        "plt.title('Emociones')\n",
        "plt.xlabel('categorias')\n",
        "plt.ylabel('Número de audios')\n",
        "\n",
        "# Create names on the x-axis\n",
        "plt.xticks(y_pos, bars)\n",
        "\n",
        "\n",
        "# Show graphic\n",
        "plt.show()"
      ],
      "execution_count": 17,
      "outputs": [
        {
          "output_type": "display_data",
          "data": {
            "image/png": "[encoded data removed]",
            "text/plain": [
              "<Figure size 432x288 with 1 Axes>"
            ]
          },
          "metadata": {
            "tags": [],
            "needs_background": "light"
          }
        }
      ]
    },
    {
      "cell_type": "code",
      "metadata": {
        "id": "FBOvsfDeapje",
        "colab_type": "code",
        "colab": {}
      },
      "source": [
        "caras_song= data_caras[(data_caras['can']=='02')&(data_caras['mod']=='01')].pat.tolist()\n"
      ],
      "execution_count": 19,
      "outputs": []
    },
    {
      "cell_type": "code",
      "metadata": {
        "id": "FEnSjJtUc42a",
        "colab_type": "code",
        "colab": {
          "base_uri": "https://localhost:8080/",
          "height": 34
        },
        "outputId": "03a3eac7-73b1-4dea-ea7c-55aa1c582b79"
      },
      "source": [
        "len(lst_song)"
      ],
      "execution_count": 30,
      "outputs": [
        {
          "output_type": "execute_result",
          "data": {
            "text/plain": [
              "969"
            ]
          },
          "metadata": {
            "tags": []
          },
          "execution_count": 30
        }
      ]
    },
    {
      "cell_type": "code",
      "metadata": {
        "id": "JbEugxIUa4BW",
        "colab_type": "code",
        "colab": {}
      },
      "source": [
        "lst_song=data_caras.loc[(data_caras['can']=='02')&(data_caras['mod']=='01'),['pat','emo']].values.tolist()"
      ],
      "execution_count": 29,
      "outputs": []
    },
    {
      "cell_type": "code",
      "metadata": {
        "id": "RHvFuNHed6gW",
        "colab_type": "code",
        "colab": {
          "base_uri": "https://localhost:8080/",
          "height": 52
        },
        "outputId": "8d2160da-07b1-4362-bdf3-2c37d5463c63"
      },
      "source": [
        "lst_song[1]\n",
        "#np.array(video_to_tensor(lst_song[1][0],44))"
      ],
      "execution_count": 39,
      "outputs": [
        {
          "output_type": "execute_result",
          "data": {
            "text/plain": [
              "['/content/drive/My Drive/Minería de datos/Proyecto Minería de datos/data/Video/cropped_face//01-02-01-01-01-01-02.avi',\n",
              " '01']"
            ]
          },
          "metadata": {
            "tags": []
          },
          "execution_count": 39
        }
      ]
    },
    {
      "cell_type": "code",
      "metadata": {
        "id": "_sf68yTibAl_",
        "colab_type": "code",
        "colab": {}
      },
      "source": [
        "datos_song=[]\n",
        "No_compatibles_song=[]\n",
        "i=0\n",
        "for p in lst_song:\n",
        "  try:\n",
        "    arr=np.asarray(video_to_tensor(p[0],44)),p[1]\n",
        "    datos_song.append(arr)\n",
        "  except:\n",
        "    No_compatibles_song.append(p)"
      ],
      "execution_count": 40,
      "outputs": []
    },
    {
      "cell_type": "code",
      "metadata": {
        "id": "r9YqCIlndyml",
        "colab_type": "code",
        "colab": {
          "base_uri": "https://localhost:8080/",
          "height": 87
        },
        "outputId": "b1815f54-db1b-4ed7-bd79-fb633581a3b7"
      },
      "source": [
        "No_compatibles_song"
      ],
      "execution_count": 41,
      "outputs": [
        {
          "output_type": "execute_result",
          "data": {
            "text/plain": [
              "[['/content/drive/My Drive/Minería de datos/Proyecto Minería de datos/data/Video/cropped_face//01-02-01-01-02-02-12 (1).avi',\n",
              "  '01'],\n",
              " ['/content/drive/My Drive/Minería de datos/Proyecto Minería de datos/data/Video/cropped_face//01-02-02-01-01-01-24.avi',\n",
              "  '02']]"
            ]
          },
          "metadata": {
            "tags": []
          },
          "execution_count": 41
        }
      ]
    },
    {
      "cell_type": "code",
      "metadata": {
        "id": "FTxOSyULbOGt",
        "colab_type": "code",
        "colab": {
          "base_uri": "https://localhost:8080/",
          "height": 34
        },
        "outputId": "9a6a0e08-08f4-403b-f985-344920fd1108"
      },
      "source": [
        "x,y=zip(*datos_song)\n",
        "x = np.asarray(x)\n",
        "y = np.asarray(y)\n",
        "x.shape, y.shape"
      ],
      "execution_count": 42,
      "outputs": [
        {
          "output_type": "execute_result",
          "data": {
            "text/plain": [
              "((967, 48, 48, 44), (967,))"
            ]
          },
          "metadata": {
            "tags": []
          },
          "execution_count": 42
        }
      ]
    },
    {
      "cell_type": "code",
      "metadata": {
        "id": "v0oEzKm4bU24",
        "colab_type": "code",
        "colab": {}
      },
      "source": [
        "import joblib\n",
        "\n",
        "x_name = 'X_song.joblib'\n",
        "y_name = 'y_song.joblib'\n",
        "save_dir ='/content/drive/My Drive/Minería de datos/Proyecto Minería de datos/Model_video'\n",
        "savedx = joblib.dump(x, os.path.join(save_dir, x_name))\n",
        "savedy = joblib.dump(y, os.path.join(save_dir, y_name))"
      ],
      "execution_count": 43,
      "outputs": []
    },
    {
      "cell_type": "code",
      "metadata": {
        "id": "jhfDR7YUbcsS",
        "colab_type": "code",
        "colab": {}
      },
      "source": [
        "X = joblib.load('/content/drive/My Drive/Minería de datos/Proyecto Minería de datos/Model_video/X_speech.joblib')\n",
        "y = joblib.load('/content/drive/My Drive/Minería de datos/Proyecto Minería de datos/Model_video/y_speech.joblib')\n",
        "y=y.astype(int)"
      ],
      "execution_count": null,
      "outputs": []
    }
  ]
}